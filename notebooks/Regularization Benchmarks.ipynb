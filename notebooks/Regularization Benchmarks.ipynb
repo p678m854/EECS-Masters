{
 "cells": [
  {
   "cell_type": "markdown",
   "metadata": {},
   "source": [
    "# Regularization Benchmarks\n",
    "\n",
    "This notebook is for benchmarking the roughness regularization penalty against other preexisting regularization methods used in neural networks.\n",
    "\n",
    "## Regularizations\n",
    "\n",
    "Note that all external github repos are not included with\n",
    "\n",
    "1. $L_1$/$L_2$ weight regularization\n",
    "2. Gaussian Netowrks\n",
    "3. Drop outs between layers\n",
    "4. [Adaptive regularization](https://github.com/yaohungt/Adaptive-Regularization-Neural-Network) which uses torch rather than `TensorFlow`\n",
    " \n",
    " \n",
    "## Setup\n",
    "\n",
    "Initially load all libraries needed."
   ]
  },
  {
   "cell_type": "code",
   "execution_count": null,
   "metadata": {},
   "outputs": [],
   "source": [
    "import matplotlib.pyplot as plt\n",
    "import numpy as np\n",
    "import os\n",
    "from scipy.special import comb\n",
    "import sys\n",
    "import tensorflow as tf\n",
    "import time\n",
    "\n",
    "t1 = time.time()\n",
    "\n",
    "# Import custom loss function\n",
    "sys.path.append(os.path.abspath('../functions'))\n",
    "from custom_loss_functions import mse_and_roughness\n",
    "\n",
    "t2 = time.time()"
   ]
  }
 ],
 "metadata": {
  "kernelspec": {
   "display_name": "Python 3",
   "language": "python",
   "name": "python3"
  },
  "language_info": {
   "codemirror_mode": {
    "name": "ipython",
    "version": 3
   },
   "file_extension": ".py",
   "mimetype": "text/x-python",
   "name": "python",
   "nbconvert_exporter": "python",
   "pygments_lexer": "ipython3",
   "version": "3.7.1"
  }
 },
 "nbformat": 4,
 "nbformat_minor": 4
}
