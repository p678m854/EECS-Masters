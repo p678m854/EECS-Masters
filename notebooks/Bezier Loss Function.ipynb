{
 "cells": [
  {
   "cell_type": "markdown",
   "metadata": {},
   "source": [
    "# Bezier Loss Function\n",
    "\n",
    "This notebook demonstrates the Bezier Loss Function which is regression loss function. Unlike traditional neural networks where the interpretation of the network output are directly points in the output space for direct use, the neural network outputs are points in the output to construct Bezier Curves over some predifined parameter interval.\n",
    "\n",
    "## Bezier Curves\n",
    "\n",
    "[Bezier Curves](https://en.wikipedia.org/wiki/B%C3%A9zier_curve) are polynomial curves of degree $d$ constructed from linear interpolations between successive points in a list of points.\n",
    "\n",
    "$$p(t) = \\sum_{k=0}^d {d \\choose k} (1-t)^{d-k} t^k P_k$$\n",
    "\n",
    "Note that the points $P$'s all exist in some arbitrary dimensional space but the parameter $t$ is real and $t\\in[0,\\ 1]$. Bezier curves also have usefull properties such as easy calculations of $\\dot{p}$, embedding lower degree polynomials in higher degree Bezier Curves, and the ability enforce levels of continuity.\n",
    "\n",
    "## Theoretical difference from standard sequential neural networks.\n",
    "\n",
    "Normally training of neural networks have the network output try and approximate the function $f:\\mathit{X}\\mapsto\\mathit{Y}$ based on a finite number of samples of the mapping. In this way, the network is $\\hat{f}:\\mathit{X}\\mapsto\\hat{\\mathit{Y}}$ with $space(\\hat{\\mathit{Y}}) \\equiv space(\\mathit{Y})$ (e.g. $\\mathbf{R}^{n}$) where the network is trained by minimizing a loss function $\\ell:\\mathit{Y}\\times\\hat{\\mathit{Y}}\\mapsto \\mathbf{R}^+$. However as neural networks are being treated as constructors of the Bezier curve, then each training sample need $m$ curve samples of $f$ around the desired interval with given values of $t$ for each curve sample. This means the network desired output for training in tensorflow is $\\mathbf{N}\\times\\mathbf{R}\\times space(\\mathit{Y})$ and the network predicted outputs are $\\mathbf{N}^d\\times space(\\mathit{Y})$ where $\\mathbf{N}^d$ is $\\lbrace 0,\\ 1,\\cdots,\\ d\\rbrace$. However, since the neural network output is interpret as a Bezier curve, there is another mapping $B: \\mathbf{N}^d \\times space(\\mathit{Y})\\mapsto \\mathbf{P}^d_{space(\\mathit{Y})}$ where $\\mathbf{P}^d_{space(\\mathit{Y})}$ is the set of all polynomial curves of degree $d$ in $space(\\mathit{Y})$. With a convolution $B\\circ\\hat{f}: \\mathit{X}\\mapsto \\mathbf{P}^d_{space(\\mathit{Y})}$, the bezier loss function is defined as $\\ell_B:(\\mathbf{R}\\times space(\\mathit{Y}))\\times \\mathbf{P}^d_{space(\\mathit{Y})}\\mapsto\\mathbf{R}^+$.\n",
    "\n",
    "## Tensorflow implementation\n",
    "\n",
    "The spaces are handled as three dimensional tensors in tensorflow with the following ordering:\n",
    "\n",
    "1. Sample index\n",
    "2. Point index\n",
    "3. Dimension index\n",
    "\n",
    "For both true and network outputs, the sample index are aligned. The point index for the true outputs is an unordered array of $m$ points and $t$ parameter values while the network outputs is an ordered array of $d+1$ points to form the Bezier curve. The dimension index for the true outputs has the first element be $t$ parameter value of the point for matching the Bezier Curve and the rest being the vector in the desired output space. The network output dimension index is only the vector in the desired output space.\n",
    "\n",
    "## Demo\n",
    "\n",
    "Load in the appropriate libraries."
   ]
  },
  {
   "cell_type": "code",
   "execution_count": 1,
   "metadata": {},
   "outputs": [
    {
     "name": "stdout",
     "output_type": "stream",
     "text": [
      "Time to import smoothness loss function is 1.995841 [s]\n"
     ]
    }
   ],
   "source": [
    "import matplotlib.pyplot as plt\n",
    "import numpy as np\n",
    "import os\n",
    "from scipy.special import comb\n",
    "import sys\n",
    "import tensorflow as tf\n",
    "import time\n",
    "\n",
    "t1 = time.time()\n",
    "\n",
    "# Import custom loss function\n",
    "#sys.path.append(os.path.abspath('../functions'))\n",
    "#from custom_loss_functions import bezier_loss\n",
    "from thesis.modules.loss_functions import bezier_loss\n",
    "\n",
    "t2 = time.time()\n",
    "\n",
    "print(\"Time to import smoothness loss function is %f [s]\" % (t2 - t1))"
   ]
  },
  {
   "cell_type": "code",
   "execution_count": 2,
   "metadata": {},
   "outputs": [],
   "source": [
    "# Set up plotting parameters for generating report figures\n",
    "#plt.rcParams['text.usetex'] = True\n",
    "plt.rcParams['font.family'] = 'serif'\n",
    "plt.rcParams['font.serif'] = ['Times New Roman'] + plt.rcParams['font.serif']"
   ]
  },
  {
   "cell_type": "markdown",
   "metadata": {},
   "source": [
    "Create the fictional input and output matrices. Input matrix is simply the coefficients of the polynomial and the output matrix is a list of outputs of the polynomial over a list of $t$ values."
   ]
  },
  {
   "cell_type": "code",
   "execution_count": 3,
   "metadata": {},
   "outputs": [
    {
     "name": "stdout",
     "output_type": "stream",
     "text": [
      "[[[0.         0.48276526]\n",
      "  [0.1        0.49719169]\n",
      "  [0.2        0.5214492 ]\n",
      "  [0.3        0.55872764]\n",
      "  [0.4        0.61221688]\n",
      "  [0.5        0.68510676]\n",
      "  [0.6        0.78058716]\n",
      "  [0.7        0.90184792]\n",
      "  [0.8        1.05207891]\n",
      "  [0.9        1.23446998]\n",
      "  [1.         1.45221099]]]\n"
     ]
    }
   ],
   "source": [
    "def f(x, coeff):\n",
    "    \"\"\"Output of a polynomial p(x) given a list of coefficients of highest ($d$) to lowest ($0$)\"\"\"\n",
    "    ans = 0.\n",
    "    lcoeff = list(coeff)\n",
    "    lcoeff.reverse()\n",
    "    for d, c in enumerate(lcoeff):\n",
    "        ans += c*(x ** d)\n",
    "    return ans\n",
    "\n",
    "# Creating input matrix\n",
    "degree = 3  # degree of desired polynomial\n",
    "X = np.random.rand(1, degree + 1)  # random coefficients in [0, 1)\n",
    "\n",
    "fvec = np.vectorize(lambda x: f(x, X[0, :]))\n",
    "\n",
    "# Creating output matrix\n",
    "tvec = np.linspace(0, 1, 11)\n",
    "Y = fvec(tvec).reshape((1,) + tvec.shape + (1,))\n",
    "Y = np.concatenate((tvec.reshape((1,) + tvec.shape + (1,)), Y), axis=2)\n",
    "print(Y)"
   ]
  },
  {
   "cell_type": "markdown",
   "metadata": {},
   "source": [
    "Create the tensorflow model."
   ]
  },
  {
   "cell_type": "code",
   "execution_count": 4,
   "metadata": {},
   "outputs": [
    {
     "name": "stdout",
     "output_type": "stream",
     "text": [
      "WARNING:tensorflow:AutoGraph could not transform <function bezier_loss at 0x0000020CA09269D8> and will run it as-is.\n",
      "Please report this to the TensorFlow team. When filing the bug, set the verbosity to 10 (on Linux, `export AUTOGRAPH_VERBOSITY=10`) and attach the full output.\n",
      "Cause: module 'gast' has no attribute 'Index'\n",
      "WARNING: AutoGraph could not transform <function bezier_loss at 0x0000020CA09269D8> and will run it as-is.\n",
      "Please report this to the TensorFlow team. When filing the bug, set the verbosity to 10 (on Linux, `export AUTOGRAPH_VERBOSITY=10`) and attach the full output.\n",
      "Cause: module 'gast' has no attribute 'Index'\n",
      "Model: \"sequential\"\n",
      "_________________________________________________________________\n",
      "Layer (type)                 Output Shape              Param #   \n",
      "=================================================================\n",
      "dense (Dense)                (None, 6)                 30        \n",
      "_________________________________________________________________\n",
      "dense_1 (Dense)              (None, 6)                 42        \n",
      "_________________________________________________________________\n",
      "dense_2 (Dense)              (None, 6)                 42        \n",
      "_________________________________________________________________\n",
      "dense_3 (Dense)              (None, 6)                 42        \n",
      "_________________________________________________________________\n",
      "dense_4 (Dense)              (None, 6)                 42        \n",
      "_________________________________________________________________\n",
      "dense_5 (Dense)              (None, 6)                 42        \n",
      "_________________________________________________________________\n",
      "dense_6 (Dense)              (None, 6)                 42        \n",
      "_________________________________________________________________\n",
      "dense_7 (Dense)              (None, 6)                 42        \n",
      "_________________________________________________________________\n",
      "dense_8 (Dense)              (None, 6)                 42        \n",
      "_________________________________________________________________\n",
      "reshape (Reshape)            (None, 6, 1)              0         \n",
      "=================================================================\n",
      "Total params: 366\n",
      "Trainable params: 366\n",
      "Non-trainable params: 0\n",
      "_________________________________________________________________\n"
     ]
    }
   ],
   "source": [
    "# Model constants\n",
    "n_layers = 10\n",
    "degree = 5  # degree of Bezier curve\n",
    "dp1 = degree + 1  # degree plus 1 i.e. number of points needed\n",
    "network_width = max(X.shape[1], dp1)\n",
    "\n",
    "# Build model\n",
    "model = tf.keras.Sequential()\n",
    "model.add(tf.keras.layers.Dense(network_width, activation=tf.nn.leaky_relu, input_shape=(X.shape[1],)))\n",
    "for _ in range(1, n_layers - 1):\n",
    "    model.add(tf.keras.layers.Dense(network_width, activation=tf.nn.leaky_relu))\n",
    "model.add(tf.keras.layers.Reshape((dp1, 1), input_shape=(network_width,)))\n",
    "\n",
    "# Compile and show model characteristics\n",
    "model.compile(\n",
    "    optimizer='adam',\n",
    "    # loss=loss_function,\n",
    "    loss=bezier_loss,\n",
    "    loss_weights=None,\n",
    "    weighted_metrics=None,\n",
    "    run_eagerly=None,\n",
    ")\n",
    "model.summary()"
   ]
  },
  {
   "cell_type": "markdown",
   "metadata": {},
   "source": [
    "Initial network output with calculated loss function."
   ]
  },
  {
   "cell_type": "code",
   "execution_count": 5,
   "metadata": {},
   "outputs": [],
   "source": [
    "def bezier_output(t, points):\n",
    "    \"\"\"Returns Bezier curve value at t given points\"\"\"\n",
    "    d = len(points) - 1\n",
    "    ans = np.zeros(points.shape[1:])\n",
    "    \n",
    "    for i, p in enumerate(points):\n",
    "        ans += comb(d, i)*(t**i)*((1-t)**(d-i))*p\n",
    "    \n",
    "    return ans"
   ]
  },
  {
   "cell_type": "code",
   "execution_count": 6,
   "metadata": {},
   "outputs": [
    {
     "name": "stdout",
     "output_type": "stream",
     "text": [
      "1/1 [==============================] - 0s 445ms/sample - loss: 8.0554\n",
      "Tensorflow loss value: 8.055436\n",
      "Calculated loss value: 8.055436\n"
     ]
    }
   ],
   "source": [
    "Ypred = model.predict(X)\n",
    "loss_value = model.evaluate(X, Y)\n",
    "\n",
    "points = Ypred[0, :, 0]\n",
    "sse = 0.\n",
    "for i, t in enumerate(tvec):\n",
    "    sse += (bezier_output(t, points) - Y[0, i, 1]) ** 2\n",
    "    \n",
    "print(\"Tensorflow loss value: %f\" % loss_value)\n",
    "print(\"Calculated loss value: %f\" % sse)"
   ]
  },
  {
   "cell_type": "markdown",
   "metadata": {},
   "source": [
    "Epoch training."
   ]
  },
  {
   "cell_type": "code",
   "execution_count": 7,
   "metadata": {},
   "outputs": [
    {
     "name": "stderr",
     "output_type": "stream",
     "text": [
      "C:\\Users\\Patrick\\AppData\\Roaming\\Python\\Python37\\site-packages\\tensorflow_core\\python\\framework\\indexed_slices.py:433: UserWarning: Converting sparse IndexedSlices to a dense Tensor of unknown shape. This may consume a large amount of memory.\n",
      "  \"Converting sparse IndexedSlices to a dense Tensor of unknown shape. \"\n"
     ]
    },
    {
     "data": {
      "image/png": "[encoded data removed]",
      "text/plain": [
       "<Figure size 432x288 with 1 Axes>"
      ]
     },
     "metadata": {
      "needs_background": "light"
     },
     "output_type": "display_data"
    }
   ],
   "source": [
    "total_epochs = 1000\n",
    "epochs_to_go = total_epochs\n",
    "epochs_per_group = 25\n",
    "n_epochs = 3\n",
    "\n",
    "# Loss history\n",
    "loss_h = np.array([loss_value])\n",
    "\n",
    "# Setting up plots\n",
    "fig = plt.figure(figsize=(6,4))\n",
    "ax = fig.add_axes([0.1, 0.125, 0.6, 0.8])\n",
    "\n",
    "# Plotting parts\n",
    "xplotting = np.linspace(0, 1, degree + 1)\n",
    "tplotting = np.linspace(0, 1, 101)\n",
    "\n",
    "ax.scatter(Y[0, :, 0], Y[0, :, 1], label='Discrete Polynomial Points', color=\"C0\")\n",
    "ax.plot(tvec, fvec(tvec), label='True Polynomial', color=\"C0\")\n",
    "\n",
    "# Epoch Training\n",
    "for i in range(n_epochs):\n",
    "    epoch_label = \"%i Epochs\" % ((i+1)*epochs_per_group)\n",
    "    \n",
    "    # Train for a specific epoch\n",
    "    hist = model.fit(x=X, y=Y, epochs=epochs_per_group, verbose=0)\n",
    "    epochs_to_go -= epochs_per_group\n",
    "    \n",
    "    # Append the loss values\n",
    "    loss_h = np.concatenate((loss_h, hist.history['loss']))\n",
    "    \n",
    "    # Plot the outputs\n",
    "    ypred = model.predict(X)\n",
    "    \"\"\"\n",
    "    ax.scatter(\n",
    "        xplotting, ypred[0, :, 0],\n",
    "        label=(epoch_label + \" Poles\"),\n",
    "        alpha=0.4\n",
    "    )\n",
    "    \"\"\"\n",
    "    ax.plot(\n",
    "        xplotting, ypred[0, :, 0],\n",
    "        label=(epoch_label + \" Poles\"),\n",
    "        color=(\"C%i\" % (i + 1)),\n",
    "        linestyle='--',\n",
    "        marker='o',\n",
    "        alpha=0.4\n",
    "    )\n",
    "    \n",
    "    # plot the polynomial\n",
    "    def p(t):\n",
    "        \"\"\"Bezier curve at t\"\"\"\n",
    "        return bezier_output(t, ypred[0, :, 0])\n",
    "\n",
    "    pvec = np.vectorize(p)  # Vectorizing that polynomial function\n",
    "    \n",
    "    # Plot the LSE polynomial\n",
    "    ax.plot(\n",
    "        tplotting, pvec(tplotting),\n",
    "        label=(epoch_label + \" Polynomial\"),\n",
    "        color=(\"C%i\" % (i + 1)),\n",
    "        alpha=0.4\n",
    "    )\n",
    "\n",
    "# Last training\n",
    "epoch_label = \"%i Epochs\" % total_epochs\n",
    "\n",
    "# Train for a specific epoch\n",
    "hist = model.fit(x=X, y=Y, epochs=epochs_to_go, verbose=0)\n",
    "\n",
    "# Append the loss and metric values\n",
    "loss_h = np.concatenate((loss_h, hist.history['loss']))\n",
    "\n",
    "# Plot the outputs\n",
    "ypred = model.predict(X)\n",
    "ax.plot(\n",
    "    xplotting, ypred[0, :, 0],\n",
    "    label=(epoch_label + \" Poles\"),\n",
    "    color=(\"C%i\" % n_epochs),\n",
    "    linestyle='--',\n",
    "    alpha=0.4\n",
    ")\n",
    "\n",
    "# plot the polynomial\n",
    "def p(t):\n",
    "    \"\"\"Bezier curve at t\"\"\"\n",
    "    return bezier_output(t, ypred[0, :, 0])\n",
    "\n",
    "pvec = np.vectorize(p)  # Vectorizing that polynomial function\n",
    "\n",
    "# Plot the LSE polynomial\n",
    "ax.plot(\n",
    "    tplotting, pvec(tplotting),\n",
    "    label=(epoch_label + \" Polynomial\"),\n",
    "    color=(\"C%i\" % n_epochs),\n",
    "    alpha=0.4\n",
    ")\n",
    "\n",
    "# Some figure setup\n",
    "ax.set_xlabel('$t$')\n",
    "ax.set_ylabel('$p(t)$')\n",
    "\n",
    "ax.legend(bbox_to_anchor=(1, 1), loc='upper left', fontsize='small', handlelength=1)\n",
    "\n",
    "plt.savefig(\"../report/project-report/figures/methodology/bezier-training.png\")\n",
    "\n",
    "plt.show()"
   ]
  },
  {
   "cell_type": "markdown",
   "metadata": {},
   "source": [
    "Training History"
   ]
  },
  {
   "cell_type": "code",
   "execution_count": 8,
   "metadata": {},
   "outputs": [
    {
     "data": {
      "image/png": "[encoded data removed]",
      "text/plain": [
       "<Figure size 432x288 with 1 Axes>"
      ]
     },
     "metadata": {
      "needs_background": "light"
     },
     "output_type": "display_data"
    }
   ],
   "source": [
    "fig, ax = plt.subplots(1,1)\n",
    "\n",
    "epoch_vec = np.arange(len(loss_h))\n",
    "ax.plot(epoch_vec, loss_h, label=\"Loss Value\")\n",
    "\n",
    "ax.set_title(\"Training History\")\n",
    "ax.set_xlabel(\"Epoch\")\n",
    "ax.set_xlim(left=0,  right=total_epochs)\n",
    "ax.set_ylabel(\"Value\")\n",
    "ax.set_yscale('log')\n",
    "ax.grid(True, which='both')\n",
    "\n",
    "plt.legend()\n",
    "plt.show()"
   ]
  }
 ],
 "metadata": {
  "kernelspec": {
   "display_name": "Python 3",
   "language": "python",
   "name": "python3"
  },
  "language_info": {
   "codemirror_mode": {
    "name": "ipython",
    "version": 3
   },
   "file_extension": ".py",
   "mimetype": "text/x-python",
   "name": "python",
   "nbconvert_exporter": "python",
   "pygments_lexer": "ipython3",
   "version": "3.7.1"
  }
 },
 "nbformat": 4,
 "nbformat_minor": 4
}
