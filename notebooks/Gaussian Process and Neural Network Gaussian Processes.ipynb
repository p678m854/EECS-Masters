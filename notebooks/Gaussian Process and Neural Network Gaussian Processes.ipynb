{
 "cells": [
  {
   "cell_type": "markdown",
   "metadata": {},
   "source": [
    "# Gaussian Process and Neural Network Gaussian Processes\n",
    "\n",
    "This notebook is for looking at traditional gaussian processes and their neural network implementation for use in optimal control and state prediction. Various parameters are test on a real dataset\n",
    "\n",
    "## Import libraries and Dataset"
   ]
  },
  {
   "cell_type": "code",
   "execution_count": 1,
   "metadata": {},
   "outputs": [],
   "source": [
    "import matplotlib.pyplot as plt\n",
    "import numpy as np\n",
    "from sklearn import gaussian_process\n",
    "from thesis.data import blackbird_dataset as rbd"
   ]
  },
  {
   "cell_type": "code",
   "execution_count": 2,
   "metadata": {},
   "outputs": [],
   "source": [
    "# Generate Test Dataset\n",
    "test_df = rbd.cleaned_blackbird_test(\n",
    "    'figure8', 'Constant', 0.5\n",
    ")"
   ]
  },
  {
   "cell_type": "code",
   "execution_count": 5,
   "metadata": {},
   "outputs": [
    {
     "name": "stdout",
     "output_type": "stream",
     "text": [
      "\tvicon position: 20 [samples]\t9.999200 [Hz]\n",
      "\tvicon attitude: 20 [samples]\t9.999200 [Hz]\n",
      "\treference position: 10 [samples]\t9.919257 [Hz]\n",
      "\treference attitude: 10 [samples]\t9.919257 [Hz]\n",
      "\tmotor speeds: 20 [samples]\t9.889436 [Hz]\n",
      "\taccelerometer: 20 [samples]\t10.000000 [Hz]\n",
      "\tgyroscope: 20 [samples]\t10.000000 [Hz]\n",
      "\tPWM: 21 [samples]\t20.881622 [Hz]\n"
     ]
    }
   ],
   "source": [
    "# Set up downsampling\n",
    "downsample_dict={\n",
    "        'stride_pos': 36,          # 10 Hz\n",
    "        'stride_att': 36,          # 10 Hz\n",
    "        'stride_pos_ref': 19,      # 10 Hz\n",
    "        'stride_att_ref': 19,      # 10 Hz\n",
    "        'stride_motor_speeds': 19, # 10 Hz\n",
    "        'stride_accel': 10,        # 10 Hz\n",
    "        'stride_gyro': 10,         # 10 Hz\n",
    "        'stride_pwms': 10,           # 20 Hz\n",
    "    }\n",
    "\n",
    "# Get optimal control input/output\n",
    "X, Y, tvec_y, info = rbd.generate_opt_control_test_data(\n",
    "    test_df,\n",
    "    past_delta_t=2,\n",
    "    future_delta_t=1,\n",
    "    downsample_dict=downsample_dict\n",
    ")\n",
    "\n",
    "for ko, kd in zip(info.keys(), downsample_dict.keys()):\n",
    "    n, dt = info[ko]\n",
    "    d = downsample_dict[kd]\n",
    "    print(\"\\t%s: %i [samples]\\t%f [Hz]\" %(ko, int(np.ceil(n/d)), 1./(dt*d)))"
   ]
  },
  {
   "cell_type": "code",
   "execution_count": 6,
   "metadata": {},
   "outputs": [
    {
     "name": "stdout",
     "output_type": "stream",
     "text": [
      "Number of test points: 38089\n",
      "Input dimension: 410\n",
      "Output dimension: 84\n"
     ]
    }
   ],
   "source": [
    "# Describing the data\n",
    "print(\"Number of test points: %i\" % X.shape[0])\n",
    "print(\"Input dimension: %i\" % X.shape[1])\n",
    "print(\"Output dimension: %s\" % Y.shape[1:])"
   ]
  },
  {
   "cell_type": "markdown",
   "metadata": {},
   "source": [
    "## Gaussian Processes\n",
    "\n",
    "Gaussian processes are fairly well known and established. \n",
    "\n",
    "$$p(\\vec{x}) \\sim \\mathcal{N}\\left(\\vec{\\mu}, \\Sigma \\right) = \\frac{1}{\\sqrt{\\left(2\\pi\\right)^2 \\left|\\Sigma\\right|}}exp\\left(-\\frac{1}{2}\\vec{x}^T \\Sigma^{-1} \\vec{x}\\right)$$\n",
    "\n",
    "$$p(\\vec{x}, \\vec{y}) \\sim \\mathcal{N}\\left(\\begin{bmatrix}\\mu_x\\\\ \\mu_y\\end{bmatrix}, \\begin{bmatrix}\\Sigma_{xx}&\\Sigma_{xy}\\\\\\Sigma_{yx}&\\Sigma_{yy}\\end{bmatrix}\\right)$$\n",
    "\n",
    "$$p(\\vec{x}|\\vec{y}) \\sim \\mathcal{N} \\left(\\mu_x + \\Sigma_{xy}\\Sigma_{yy}^{-1}(\\vec{y} - \\mu_y), \\Sigma_{xx} - \\Sigma_{xy}\\Sigma_{yy}^{-1}\\Sigma_{xy}^T\\right)$$\n",
    "\n",
    "$$p(\\vec{x}) \\sim \\mathcal{GP}\\left(\\mu(\\vec{x}), k(\\vec{x},\\vec{x}')\\right)$$"
   ]
  },
  {
   "cell_type": "code",
   "execution_count": null,
   "metadata": {},
   "outputs": [],
   "source": []
  },
  {
   "cell_type": "markdown",
   "metadata": {},
   "source": [
    "## Neural Network Gaussian Processes"
   ]
  }
 ],
 "metadata": {
  "kernelspec": {
   "display_name": "Python 3",
   "language": "python",
   "name": "python3"
  },
  "language_info": {
   "codemirror_mode": {
    "name": "ipython",
    "version": 3
   },
   "file_extension": ".py",
   "mimetype": "text/x-python",
   "name": "python",
   "nbconvert_exporter": "python",
   "pygments_lexer": "ipython3",
   "version": "3.7.1"
  }
 },
 "nbformat": 4,
 "nbformat_minor": 4
}
